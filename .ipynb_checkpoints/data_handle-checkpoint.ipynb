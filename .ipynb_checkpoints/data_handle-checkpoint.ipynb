{
 "cells": [
  {
   "cell_type": "markdown",
   "metadata": {},
   "source": [
    "## rawdata  --->  NER_data"
   ]
  },
  {
   "cell_type": "markdown",
   "metadata": {},
   "source": [
    "* 原来是标注的原始文件，relations,entitys,等都有\n",
    "* 处理后是 source,target, 但是关系尚未标出 "
   ]
  },
  {
   "cell_type": "markdown",
   "metadata": {},
   "source": [
    "* 人名  Nh\n",
    "* 毒品 NDR\n",
    "* 其他都是O"
   ]
  },
  {
   "cell_type": "code",
   "execution_count": 1,
   "metadata": {},
   "outputs": [],
   "source": [
    "import json"
   ]
  },
  {
   "cell_type": "code",
   "execution_count": null,
   "metadata": {},
   "outputs": [],
   "source": [
    "prepath = '../multi_data/'\n",
    "\n",
    "filename = 'multi_train.txt'"
   ]
  },
  {
   "cell_type": "code",
   "execution_count": null,
   "metadata": {},
   "outputs": [],
   "source": [
    "with open(prepath+filename,'r',encoding='gbk') as f:\n",
    "    lines = f.readlines()\n",
    "f.close()"
   ]
  },
  {
   "cell_type": "code",
   "execution_count": null,
   "metadata": {},
   "outputs": [],
   "source": [
    "def update_label(start,end,sym,label_list):\n",
    "    for i in range(start,end):\n",
    "        if i == start:\n",
    "            label_list[i] = 'B-'+sym\n",
    "#             print(label_list[i])\n",
    "        else:\n",
    "            label_list[i] = 'I-'+sym\n",
    "#     print(start,end,label_list)"
   ]
  },
  {
   "cell_type": "code",
   "execution_count": null,
   "metadata": {},
   "outputs": [],
   "source": [
    "ner_lines = []\n",
    "for line in lines:\n",
    "    ner_line = {}\n",
    "    con = json.loads(line)\n",
    "    sentText = con['sentText']\n",
    "#     print(sentText)\n",
    "    label = ['O']*len(sentText)\n",
    "#     print(len(sentText),type(label))\n",
    "    entityMentions = con['entityMentions']\n",
    "    for entity in entityMentions:\n",
    "        if entity['label'] == 'Nh' or entity['label'] == 'NDR':\n",
    "#             print(entity['start'])\n",
    "            update_label(entity['start'],entity['end'],entity['label'],label)\n",
    "    ner_line['source'] = sentText\n",
    "    ner_line['target'] = label\n",
    "    ner_lines.append(ner_line)\n",
    "#     print(con['entityMentions'])\n",
    "#   "
   ]
  },
  {
   "cell_type": "code",
   "execution_count": null,
   "metadata": {},
   "outputs": [],
   "source": [
    "len(lines),len(ner_lines)"
   ]
  },
  {
   "cell_type": "code",
   "execution_count": null,
   "metadata": {},
   "outputs": [],
   "source": [
    "## save\n",
    "with open(prepath+filename.split('.')[0]+'ner.txt','w+',encoding = 'utf-8') as f:\n",
    "    for line in ner_lines:\n",
    "        line_str = json.dumps(line)\n",
    "        f.write(line_str+'\\n')"
   ]
  },
  {
   "cell_type": "markdown",
   "metadata": {},
   "source": [
    "#### 统计字数"
   ]
  },
  {
   "cell_type": "code",
   "execution_count": 3,
   "metadata": {},
   "outputs": [],
   "source": [
    "prepath = '../multi_data/'\n",
    "\n",
    "filename = 'multi_trainner.txt'"
   ]
  },
  {
   "cell_type": "code",
   "execution_count": 4,
   "metadata": {},
   "outputs": [],
   "source": [
    "\n",
    "with open(prepath+filename,'r',encoding = 'utf-8') as f:\n",
    "    lines = f.readlines()"
   ]
  },
  {
   "cell_type": "code",
   "execution_count": 9,
   "metadata": {},
   "outputs": [],
   "source": [
    "count_text = []\n",
    "for line in lines:\n",
    "    line= line.strip()\n",
    "    con = json.loads(line)\n",
    "    sentText = con['source']\n",
    "#     print(sentText)\n",
    "    count_text.append(len(sentText))"
   ]
  },
  {
   "cell_type": "code",
   "execution_count": 12,
   "metadata": {},
   "outputs": [
    {
     "name": "stdout",
     "output_type": "stream",
     "text": [
      "Counter({90: 12, 152: 11, 84: 10, 124: 10, 82: 10, 115: 10, 114: 9, 104: 9, 125: 9, 150: 9, 122: 9, 93: 9, 89: 9, 137: 8, 111: 8, 128: 8, 140: 8, 184: 8, 127: 8, 106: 8, 117: 8, 165: 8, 179: 7, 154: 7, 79: 7, 148: 7, 66: 7, 175: 7, 243: 7, 123: 7, 147: 7, 168: 7, 110: 7, 176: 7, 64: 7, 88: 7, 99: 7, 116: 7, 169: 7, 61: 7, 76: 7, 191: 6, 195: 6, 101: 6, 87: 6, 181: 6, 139: 6, 151: 6, 138: 6, 107: 6, 118: 6, 136: 6, 144: 6, 156: 6, 97: 6, 142: 6, 206: 6, 72: 6, 121: 6, 155: 6, 75: 6, 77: 6, 83: 6, 212: 6, 132: 6, 73: 6, 74: 6, 67: 6, 78: 5, 162: 5, 91: 5, 226: 5, 187: 5, 192: 5, 220: 5, 244: 5, 170: 5, 143: 5, 135: 5, 166: 5, 134: 5, 235: 5, 153: 5, 223: 5, 96: 5, 85: 5, 221: 5, 146: 5, 92: 5, 50: 5, 95: 5, 204: 5, 205: 4, 126: 4, 161: 4, 256: 4, 267: 4, 86: 4, 65: 4, 186: 4, 194: 4, 120: 4, 157: 4, 182: 4, 145: 4, 196: 4, 167: 4, 200: 4, 98: 4, 335: 4, 270: 4, 207: 4, 113: 4, 214: 4, 177: 4, 240: 4, 171: 4, 80: 4, 299: 3, 119: 3, 254: 3, 211: 3, 112: 3, 285: 3, 197: 3, 199: 3, 190: 3, 71: 3, 193: 3, 149: 3, 210: 3, 63: 3, 340: 3, 233: 3, 227: 3, 237: 3, 105: 3, 102: 3, 246: 3, 203: 3, 216: 3, 208: 3, 108: 3, 129: 3, 130: 3, 219: 3, 287: 3, 336: 3, 201: 3, 94: 3, 253: 3, 274: 3, 202: 3, 70: 3, 173: 3, 81: 3, 242: 3, 470: 2, 172: 2, 141: 2, 266: 2, 131: 2, 164: 2, 241: 2, 347: 2, 215: 2, 263: 2, 163: 2, 282: 2, 315: 2, 103: 2, 185: 2, 133: 2, 295: 2, 314: 2, 222: 2, 304: 2, 276: 2, 275: 2, 366: 2, 189: 2, 230: 2, 225: 2, 273: 2, 337: 2, 255: 2, 301: 2, 69: 2, 174: 2, 260: 2, 247: 2, 109: 2, 100: 2, 310: 2, 395: 2, 198: 2, 296: 2, 218: 2, 178: 2, 48: 2, 232: 2, 289: 2, 234: 2, 291: 2, 58: 2, 297: 1, 224: 1, 53: 1, 357: 1, 252: 1, 209: 1, 159: 1, 265: 1, 385: 1, 413: 1, 486: 1, 60: 1, 376: 1, 393: 1, 39: 1, 258: 1, 501: 1, 217: 1, 316: 1, 329: 1, 312: 1, 298: 1, 286: 1, 355: 1, 360: 1, 446: 1, 352: 1, 293: 1, 415: 1, 251: 1, 390: 1, 269: 1, 249: 1, 343: 1, 448: 1, 160: 1, 358: 1, 158: 1, 288: 1, 351: 1, 386: 1, 306: 1, 281: 1, 365: 1, 339: 1, 280: 1, 305: 1, 493: 1, 374: 1, 325: 1, 370: 1, 322: 1, 213: 1, 248: 1, 268: 1, 54: 1, 319: 1, 440: 1, 362: 1, 408: 1, 231: 1, 417: 1, 250: 1, 473: 1, 324: 1, 327: 1, 284: 1, 68: 1, 264: 1, 513: 1, 229: 1, 317: 1, 429: 1, 236: 1, 180: 1, 320: 1, 271: 1, 697: 1, 349: 1, 341: 1, 367: 1, 59: 1})\n"
     ]
    }
   ],
   "source": [
    "from collections import Counter\n",
    "print(Counter(count_text)) ## bert 句子长度设为512"
   ]
  },
  {
   "cell_type": "code",
   "execution_count": null,
   "metadata": {},
   "outputs": [],
   "source": []
  }
 ],
 "metadata": {
  "kernelspec": {
   "display_name": "Python 3",
   "language": "python",
   "name": "python3"
  },
  "language_info": {
   "codemirror_mode": {
    "name": "ipython",
    "version": 3
   },
   "file_extension": ".py",
   "mimetype": "text/x-python",
   "name": "python",
   "nbconvert_exporter": "python",
   "pygments_lexer": "ipython3",
   "version": "3.7.4"
  }
 },
 "nbformat": 4,
 "nbformat_minor": 2
}

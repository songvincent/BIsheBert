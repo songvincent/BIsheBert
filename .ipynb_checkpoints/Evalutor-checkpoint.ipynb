{
 "cells": [
  {
   "cell_type": "code",
   "execution_count": 1,
   "metadata": {},
   "outputs": [],
   "source": [
    "def evaluate(out,label_ids,input_mask):\n",
    "    total_tp =0.0\n",
    "    total_tn = 0.0\n",
    "    total_fp = 0.0\n",
    "    total_fn = 0.0\n",
    "    for i in range(len(out)):\n",
    "        label_true = [label_ids[i][j].item() for j in range(512) if input_mask[i][j] == 1 ]\n",
    "        y_pre = [out[i][j].tolist() for j in range(512) if input_mask[i][j] == 1 ]\n",
    "#         y_pre = torch.argmax(torch.tensor(y_pre),dim = 1)\n",
    "\n",
    "        assert len(label_true) == len(y_pre)\n",
    "        length = len(label_true)\n",
    "\n",
    "        tp = 0.0\n",
    "        tn = 0.0\n",
    "        fp = 0.0\n",
    "        fn = 0.0\n",
    "\n",
    "        for i in range(length):\n",
    "            if label_true[i] == y_pre[i]:\n",
    "                if label_true[i] == 0: ### 负例预测为负例\n",
    "                    tn += 1\n",
    "                else:             ### 正例预测为正例\n",
    "                    tp += 1\n",
    "            else:\n",
    "                if label_true[i] == 0:  ### 负例 预测为正例\n",
    "                    fp += 1\n",
    "                else:\n",
    "                    fn += 1         ### 正例预测为负例\n",
    "\n",
    "        total_tp += tp\n",
    "        total_tn += tn\n",
    "        total_fp += fp\n",
    "        total_fn += fn\n",
    "#         print(\"tp %d,tn %d,fp %d,fn %d\" %(tp,tn,fp,fn))\n",
    "        precision = tp/(tp+fp)\n",
    "        recall = tp/(tp+fn)\n",
    "        f1 = 2*precision*recall/(precision+recall)\n",
    "#         print(\"precision :%.4f,recall :%.4f,f1 :%.4f\" %(precision,recall,f1))\n",
    "    batch_precision = total_tp/(total_tp+total_fp)\n",
    "    batch_recall = total_tp/(total_tp+total_fn)\n",
    "    batch_f1 = 2*batch_precision*batch_recall/(batch_precision+batch_recall)\n",
    "    \n",
    "#     print('*********************')\n",
    "#     print('batch_precision:%.4f  batch_recall:%.4f  batch_f1: %.4f' %(batch_precision,batch_recall,batch_f1))  \n",
    "    \n",
    "    return batch_precision,batch_recall,batch_f1\n",
    "    "
   ]
  },
  {
   "cell_type": "code",
   "execution_count": null,
   "metadata": {},
   "outputs": [],
   "source": []
  }
 ],
 "metadata": {
  "kernelspec": {
   "display_name": "Python 3",
   "language": "python",
   "name": "python3"
  },
  "language_info": {
   "codemirror_mode": {
    "name": "ipython",
    "version": 3
   },
   "file_extension": ".py",
   "mimetype": "text/x-python",
   "name": "python",
   "nbconvert_exporter": "python",
   "pygments_lexer": "ipython3",
   "version": "3.7.4"
  }
 },
 "nbformat": 4,
 "nbformat_minor": 4
}
